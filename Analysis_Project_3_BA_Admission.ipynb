{
  "nbformat": 4,
  "nbformat_minor": 0,
  "metadata": {
    "colab": {
      "provenance": [],
      "authorship_tag": "ABX9TyMrnDa4cuONUILhxQfo6YTn",
      "include_colab_link": true
    },
    "kernelspec": {
      "name": "python3",
      "display_name": "Python 3"
    },
    "language_info": {
      "name": "python"
    }
  },
  "cells": [
    {
      "cell_type": "markdown",
      "metadata": {
        "id": "view-in-github",
        "colab_type": "text"
      },
      "source": [
        "<a href=\"https://colab.research.google.com/github/huangliangc/Analysis_Projects/blob/main/Analysis_Project_3_BA_Admission.ipynb\" target=\"_parent\"><img src=\"https://colab.research.google.com/assets/colab-badge.svg\" alt=\"Open In Colab\"/></a>"
      ]
    },
    {
      "cell_type": "code",
      "execution_count": null,
      "metadata": {
        "id": "q5i63GyPidzm"
      },
      "outputs": [],
      "source": [
        "from google.colab import auth\n",
        "auth.authenticate_user()\n",
        "\n",
        "import gspread\n",
        "from google.auth import default\n",
        "creds, _ = default()\n",
        "\n",
        "gc = gspread.authorize(creds)\n",
        "\n",
        "import pandas as pd\n",
        "import seaborn as sns\n",
        "from sklearn.linear_model import LinearRegression"
      ]
    },
    {
      "cell_type": "code",
      "source": [
        "link = 'https://docs.google.com/spreadsheets/d/1vwBsIGRgt1grxb5zLtIRULxHlWZ6eaUuHrB4Pelh7ZI/edit#gid=2146076648'"
      ],
      "metadata": {
        "id": "Cc9LXR9njKHH"
      },
      "execution_count": null,
      "outputs": []
    },
    {
      "cell_type": "code",
      "source": [
        "gsheets = gc.open_by_url(link)\n",
        "sheets = gsheets.worksheet('BA').get_all_values()\n",
        "df = pd.DataFrame(sheets[1:], columns=sheets[0], dtype = object)\n",
        "df.drop_duplicates(subset = \"0000SLATE REF ID,\")\n",
        "df = df[df['0000SLATE REF ID,'] != '']"
      ],
      "metadata": {
        "id": "Fr0dcjxHjGkC"
      },
      "execution_count": null,
      "outputs": []
    },
    {
      "cell_type": "code",
      "source": [
        "df"
      ],
      "metadata": {
        "colab": {
          "base_uri": "https://localhost:8080/",
          "height": 661
        },
        "id": "z_D58ekbjVEa",
        "outputId": "5f9dea7f-8e03-4f58-aed2-a597b73e753d"
      },
      "execution_count": null,
      "outputs": [
        {
          "output_type": "execute_result",
          "data": {
            "text/plain": [
              "                                                AppLink PrescreenLocation  \\\n",
              "0     https://apply.engineering.columbia.edu/manage/...               REP   \n",
              "1     https://apply.engineering.columbia.edu/manage/...               REP   \n",
              "2     https://apply.engineering.columbia.edu/manage/...               REP   \n",
              "3     https://apply.engineering.columbia.edu/manage/...                UR   \n",
              "4     https://apply.engineering.columbia.edu/manage/...               REP   \n",
              "...                                                 ...               ...   \n",
              "2264  https://apply.engineering.columbia.edu/manage/...                     \n",
              "2265  https://apply.engineering.columbia.edu/manage/...                     \n",
              "2266  https://apply.engineering.columbia.edu/manage/...                     \n",
              "2267  https://apply.engineering.columbia.edu/manage/...                     \n",
              "2268  https://apply.engineering.columbia.edu/manage/...                     \n",
              "\n",
              "     IND Ck 0000SLATE REF ID, Reviewer FacRank Int IntRate Status  \\\n",
              "0                  654046742,     Adam       5   x     4.0          \n",
              "1                  299364339,     Adam       4   x     3.3          \n",
              "2                  063242358,     Adam       5   x     3.7          \n",
              "3                  320021522,     Adam       1        #N/A          \n",
              "4                  208262775,     Adam       4   x     4.7          \n",
              "...     ...               ...      ...     ...  ..     ...    ...   \n",
              "2264               438184187,                         #N/A          \n",
              "2265               329624326,                         #N/A          \n",
              "2266               312045791,                         #N/A          \n",
              "2267               163945382,                         #N/A          \n",
              "2268               775576290,                         #N/A          \n",
              "\n",
              "     Staff Rating  ... I-20 Status Visa/Vissa Appt Status  \\\n",
              "0                  ...                                      \n",
              "1                  ...                                      \n",
              "2                  ...                                      \n",
              "3                  ...                                      \n",
              "4                  ...                                      \n",
              "...           ...  ...         ...                    ...   \n",
              "2264               ...                                      \n",
              "2265            1  ...                                      \n",
              "2266            1  ...                                      \n",
              "2267            1  ...                                      \n",
              "2268            3  ...                                      \n",
              "\n",
              "     Decision Confirmed Code Programming Languages - Proficient  \\\n",
              "0                                    MATLAB, Python, R, SQL, VB   \n",
              "1                                 C, MATLAB, Python, R, SQL, VB   \n",
              "2                                    MATLAB, Python, R, SQL, VB   \n",
              "3                                                     Java, SQL   \n",
              "4                                        MATLAB, Python, R, SQL   \n",
              "...                      ...                                ...   \n",
              "2264                                                     Python   \n",
              "2265                                                     Python   \n",
              "2266                                                       Java   \n",
              "2267                                                          R   \n",
              "2268                                                Python, SQL   \n",
              "\n",
              "     Intro Programming     Intro Programming Course Computer Science PreReq  \\\n",
              "0                    1  Python, R, MATLAB, SQL, SAS                       1   \n",
              "1                    1        Dr. Racket, Python, C                       1   \n",
              "2                    1       Python, R, SQL, Racket                       1   \n",
              "3                    1                 Java and SQL                       1   \n",
              "4                    1             Scheme, C, R,SQL                       1   \n",
              "...                ...                          ...                     ...   \n",
              "2264                 1                   C & python                       1   \n",
              "2265                 1                       Python                       1   \n",
              "2266                 1                         JAVA                       0   \n",
              "2267                 1                      R Stata                       0   \n",
              "2268                 1                       Python                       1   \n",
              "\n",
              "     Data Science PreReq Coding Internship   Coding Internship Language  \n",
              "0                      1                 1  Python, R, MATLAB, SQL, SAS  \n",
              "1                      0                 1     Python, MATLAB. SQL, VBA  \n",
              "2                      1                 1                  Python, SQL  \n",
              "3                      0                 0                               \n",
              "4                      1                 1                    JSON, SQL  \n",
              "...                  ...               ...                          ...  \n",
              "2264                   0                 0                               \n",
              "2265                   0                 0                               \n",
              "2266                   0                 0                               \n",
              "2267                   0                 0                               \n",
              "2268                   1                 1                          SQL  \n",
              "\n",
              "[2269 rows x 100 columns]"
            ],
            "text/html": [
              "\n",
              "  <div id=\"df-731c6293-e011-4600-8227-5d8682d5ac89\">\n",
              "    <div class=\"colab-df-container\">\n",
              "      <div>\n",
              "<style scoped>\n",
              "    .dataframe tbody tr th:only-of-type {\n",
              "        vertical-align: middle;\n",
              "    }\n",
              "\n",
              "    .dataframe tbody tr th {\n",
              "        vertical-align: top;\n",
              "    }\n",
              "\n",
              "    .dataframe thead th {\n",
              "        text-align: right;\n",
              "    }\n",
              "</style>\n",
              "<table border=\"1\" class=\"dataframe\">\n",
              "  <thead>\n",
              "    <tr style=\"text-align: right;\">\n",
              "      <th></th>\n",
              "      <th>AppLink</th>\n",
              "      <th>PrescreenLocation</th>\n",
              "      <th>IND Ck</th>\n",
              "      <th>0000SLATE REF ID,</th>\n",
              "      <th>Reviewer</th>\n",
              "      <th>FacRank</th>\n",
              "      <th>Int</th>\n",
              "      <th>IntRate</th>\n",
              "      <th>Status</th>\n",
              "      <th>Staff Rating</th>\n",
              "      <th>...</th>\n",
              "      <th>I-20 Status</th>\n",
              "      <th>Visa/Vissa Appt Status</th>\n",
              "      <th>Decision Confirmed Code</th>\n",
              "      <th>Programming Languages - Proficient</th>\n",
              "      <th>Intro Programming</th>\n",
              "      <th>Intro Programming Course</th>\n",
              "      <th>Computer Science PreReq</th>\n",
              "      <th>Data Science PreReq</th>\n",
              "      <th>Coding Internship</th>\n",
              "      <th>Coding Internship Language</th>\n",
              "    </tr>\n",
              "  </thead>\n",
              "  <tbody>\n",
              "    <tr>\n",
              "      <th>0</th>\n",
              "      <td>https://apply.engineering.columbia.edu/manage/...</td>\n",
              "      <td>REP</td>\n",
              "      <td></td>\n",
              "      <td>654046742,</td>\n",
              "      <td>Adam</td>\n",
              "      <td>5</td>\n",
              "      <td>x</td>\n",
              "      <td>4.0</td>\n",
              "      <td></td>\n",
              "      <td></td>\n",
              "      <td>...</td>\n",
              "      <td></td>\n",
              "      <td></td>\n",
              "      <td></td>\n",
              "      <td>MATLAB, Python, R, SQL, VB</td>\n",
              "      <td>1</td>\n",
              "      <td>Python, R, MATLAB, SQL, SAS</td>\n",
              "      <td>1</td>\n",
              "      <td>1</td>\n",
              "      <td>1</td>\n",
              "      <td>Python, R, MATLAB, SQL, SAS</td>\n",
              "    </tr>\n",
              "    <tr>\n",
              "      <th>1</th>\n",
              "      <td>https://apply.engineering.columbia.edu/manage/...</td>\n",
              "      <td>REP</td>\n",
              "      <td></td>\n",
              "      <td>299364339,</td>\n",
              "      <td>Adam</td>\n",
              "      <td>4</td>\n",
              "      <td>x</td>\n",
              "      <td>3.3</td>\n",
              "      <td></td>\n",
              "      <td></td>\n",
              "      <td>...</td>\n",
              "      <td></td>\n",
              "      <td></td>\n",
              "      <td></td>\n",
              "      <td>C, MATLAB, Python, R, SQL, VB</td>\n",
              "      <td>1</td>\n",
              "      <td>Dr. Racket, Python, C</td>\n",
              "      <td>1</td>\n",
              "      <td>0</td>\n",
              "      <td>1</td>\n",
              "      <td>Python, MATLAB. SQL, VBA</td>\n",
              "    </tr>\n",
              "    <tr>\n",
              "      <th>2</th>\n",
              "      <td>https://apply.engineering.columbia.edu/manage/...</td>\n",
              "      <td>REP</td>\n",
              "      <td></td>\n",
              "      <td>063242358,</td>\n",
              "      <td>Adam</td>\n",
              "      <td>5</td>\n",
              "      <td>x</td>\n",
              "      <td>3.7</td>\n",
              "      <td></td>\n",
              "      <td></td>\n",
              "      <td>...</td>\n",
              "      <td></td>\n",
              "      <td></td>\n",
              "      <td></td>\n",
              "      <td>MATLAB, Python, R, SQL, VB</td>\n",
              "      <td>1</td>\n",
              "      <td>Python, R, SQL, Racket</td>\n",
              "      <td>1</td>\n",
              "      <td>1</td>\n",
              "      <td>1</td>\n",
              "      <td>Python, SQL</td>\n",
              "    </tr>\n",
              "    <tr>\n",
              "      <th>3</th>\n",
              "      <td>https://apply.engineering.columbia.edu/manage/...</td>\n",
              "      <td>UR</td>\n",
              "      <td></td>\n",
              "      <td>320021522,</td>\n",
              "      <td>Adam</td>\n",
              "      <td>1</td>\n",
              "      <td></td>\n",
              "      <td>#N/A</td>\n",
              "      <td></td>\n",
              "      <td></td>\n",
              "      <td>...</td>\n",
              "      <td></td>\n",
              "      <td></td>\n",
              "      <td></td>\n",
              "      <td>Java, SQL</td>\n",
              "      <td>1</td>\n",
              "      <td>Java and SQL</td>\n",
              "      <td>1</td>\n",
              "      <td>0</td>\n",
              "      <td>0</td>\n",
              "      <td></td>\n",
              "    </tr>\n",
              "    <tr>\n",
              "      <th>4</th>\n",
              "      <td>https://apply.engineering.columbia.edu/manage/...</td>\n",
              "      <td>REP</td>\n",
              "      <td></td>\n",
              "      <td>208262775,</td>\n",
              "      <td>Adam</td>\n",
              "      <td>4</td>\n",
              "      <td>x</td>\n",
              "      <td>4.7</td>\n",
              "      <td></td>\n",
              "      <td></td>\n",
              "      <td>...</td>\n",
              "      <td></td>\n",
              "      <td></td>\n",
              "      <td></td>\n",
              "      <td>MATLAB, Python, R, SQL</td>\n",
              "      <td>1</td>\n",
              "      <td>Scheme, C, R,SQL</td>\n",
              "      <td>1</td>\n",
              "      <td>1</td>\n",
              "      <td>1</td>\n",
              "      <td>JSON, SQL</td>\n",
              "    </tr>\n",
              "    <tr>\n",
              "      <th>...</th>\n",
              "      <td>...</td>\n",
              "      <td>...</td>\n",
              "      <td>...</td>\n",
              "      <td>...</td>\n",
              "      <td>...</td>\n",
              "      <td>...</td>\n",
              "      <td>...</td>\n",
              "      <td>...</td>\n",
              "      <td>...</td>\n",
              "      <td>...</td>\n",
              "      <td>...</td>\n",
              "      <td>...</td>\n",
              "      <td>...</td>\n",
              "      <td>...</td>\n",
              "      <td>...</td>\n",
              "      <td>...</td>\n",
              "      <td>...</td>\n",
              "      <td>...</td>\n",
              "      <td>...</td>\n",
              "      <td>...</td>\n",
              "      <td>...</td>\n",
              "    </tr>\n",
              "    <tr>\n",
              "      <th>2264</th>\n",
              "      <td>https://apply.engineering.columbia.edu/manage/...</td>\n",
              "      <td></td>\n",
              "      <td></td>\n",
              "      <td>438184187,</td>\n",
              "      <td></td>\n",
              "      <td></td>\n",
              "      <td></td>\n",
              "      <td>#N/A</td>\n",
              "      <td></td>\n",
              "      <td></td>\n",
              "      <td>...</td>\n",
              "      <td></td>\n",
              "      <td></td>\n",
              "      <td></td>\n",
              "      <td>Python</td>\n",
              "      <td>1</td>\n",
              "      <td>C &amp; python</td>\n",
              "      <td>1</td>\n",
              "      <td>0</td>\n",
              "      <td>0</td>\n",
              "      <td></td>\n",
              "    </tr>\n",
              "    <tr>\n",
              "      <th>2265</th>\n",
              "      <td>https://apply.engineering.columbia.edu/manage/...</td>\n",
              "      <td></td>\n",
              "      <td></td>\n",
              "      <td>329624326,</td>\n",
              "      <td></td>\n",
              "      <td></td>\n",
              "      <td></td>\n",
              "      <td>#N/A</td>\n",
              "      <td></td>\n",
              "      <td>1</td>\n",
              "      <td>...</td>\n",
              "      <td></td>\n",
              "      <td></td>\n",
              "      <td></td>\n",
              "      <td>Python</td>\n",
              "      <td>1</td>\n",
              "      <td>Python</td>\n",
              "      <td>1</td>\n",
              "      <td>0</td>\n",
              "      <td>0</td>\n",
              "      <td></td>\n",
              "    </tr>\n",
              "    <tr>\n",
              "      <th>2266</th>\n",
              "      <td>https://apply.engineering.columbia.edu/manage/...</td>\n",
              "      <td></td>\n",
              "      <td></td>\n",
              "      <td>312045791,</td>\n",
              "      <td></td>\n",
              "      <td></td>\n",
              "      <td></td>\n",
              "      <td>#N/A</td>\n",
              "      <td></td>\n",
              "      <td>1</td>\n",
              "      <td>...</td>\n",
              "      <td></td>\n",
              "      <td></td>\n",
              "      <td></td>\n",
              "      <td>Java</td>\n",
              "      <td>1</td>\n",
              "      <td>JAVA</td>\n",
              "      <td>0</td>\n",
              "      <td>0</td>\n",
              "      <td>0</td>\n",
              "      <td></td>\n",
              "    </tr>\n",
              "    <tr>\n",
              "      <th>2267</th>\n",
              "      <td>https://apply.engineering.columbia.edu/manage/...</td>\n",
              "      <td></td>\n",
              "      <td></td>\n",
              "      <td>163945382,</td>\n",
              "      <td></td>\n",
              "      <td></td>\n",
              "      <td></td>\n",
              "      <td>#N/A</td>\n",
              "      <td></td>\n",
              "      <td>1</td>\n",
              "      <td>...</td>\n",
              "      <td></td>\n",
              "      <td></td>\n",
              "      <td></td>\n",
              "      <td>R</td>\n",
              "      <td>1</td>\n",
              "      <td>R Stata</td>\n",
              "      <td>0</td>\n",
              "      <td>0</td>\n",
              "      <td>0</td>\n",
              "      <td></td>\n",
              "    </tr>\n",
              "    <tr>\n",
              "      <th>2268</th>\n",
              "      <td>https://apply.engineering.columbia.edu/manage/...</td>\n",
              "      <td></td>\n",
              "      <td></td>\n",
              "      <td>775576290,</td>\n",
              "      <td></td>\n",
              "      <td></td>\n",
              "      <td></td>\n",
              "      <td>#N/A</td>\n",
              "      <td></td>\n",
              "      <td>3</td>\n",
              "      <td>...</td>\n",
              "      <td></td>\n",
              "      <td></td>\n",
              "      <td></td>\n",
              "      <td>Python, SQL</td>\n",
              "      <td>1</td>\n",
              "      <td>Python</td>\n",
              "      <td>1</td>\n",
              "      <td>1</td>\n",
              "      <td>1</td>\n",
              "      <td>SQL</td>\n",
              "    </tr>\n",
              "  </tbody>\n",
              "</table>\n",
              "<p>2269 rows × 100 columns</p>\n",
              "</div>\n",
              "      <button class=\"colab-df-convert\" onclick=\"convertToInteractive('df-731c6293-e011-4600-8227-5d8682d5ac89')\"\n",
              "              title=\"Convert this dataframe to an interactive table.\"\n",
              "              style=\"display:none;\">\n",
              "        \n",
              "  <svg xmlns=\"http://www.w3.org/2000/svg\" height=\"24px\"viewBox=\"0 0 24 24\"\n",
              "       width=\"24px\">\n",
              "    <path d=\"M0 0h24v24H0V0z\" fill=\"none\"/>\n",
              "    <path d=\"M18.56 5.44l.94 2.06.94-2.06 2.06-.94-2.06-.94-.94-2.06-.94 2.06-2.06.94zm-11 1L8.5 8.5l.94-2.06 2.06-.94-2.06-.94L8.5 2.5l-.94 2.06-2.06.94zm10 10l.94 2.06.94-2.06 2.06-.94-2.06-.94-.94-2.06-.94 2.06-2.06.94z\"/><path d=\"M17.41 7.96l-1.37-1.37c-.4-.4-.92-.59-1.43-.59-.52 0-1.04.2-1.43.59L10.3 9.45l-7.72 7.72c-.78.78-.78 2.05 0 2.83L4 21.41c.39.39.9.59 1.41.59.51 0 1.02-.2 1.41-.59l7.78-7.78 2.81-2.81c.8-.78.8-2.07 0-2.86zM5.41 20L4 18.59l7.72-7.72 1.47 1.35L5.41 20z\"/>\n",
              "  </svg>\n",
              "      </button>\n",
              "      \n",
              "  <style>\n",
              "    .colab-df-container {\n",
              "      display:flex;\n",
              "      flex-wrap:wrap;\n",
              "      gap: 12px;\n",
              "    }\n",
              "\n",
              "    .colab-df-convert {\n",
              "      background-color: #E8F0FE;\n",
              "      border: none;\n",
              "      border-radius: 50%;\n",
              "      cursor: pointer;\n",
              "      display: none;\n",
              "      fill: #1967D2;\n",
              "      height: 32px;\n",
              "      padding: 0 0 0 0;\n",
              "      width: 32px;\n",
              "    }\n",
              "\n",
              "    .colab-df-convert:hover {\n",
              "      background-color: #E2EBFA;\n",
              "      box-shadow: 0px 1px 2px rgba(60, 64, 67, 0.3), 0px 1px 3px 1px rgba(60, 64, 67, 0.15);\n",
              "      fill: #174EA6;\n",
              "    }\n",
              "\n",
              "    [theme=dark] .colab-df-convert {\n",
              "      background-color: #3B4455;\n",
              "      fill: #D2E3FC;\n",
              "    }\n",
              "\n",
              "    [theme=dark] .colab-df-convert:hover {\n",
              "      background-color: #434B5C;\n",
              "      box-shadow: 0px 1px 3px 1px rgba(0, 0, 0, 0.15);\n",
              "      filter: drop-shadow(0px 1px 2px rgba(0, 0, 0, 0.3));\n",
              "      fill: #FFFFFF;\n",
              "    }\n",
              "  </style>\n",
              "\n",
              "      <script>\n",
              "        const buttonEl =\n",
              "          document.querySelector('#df-731c6293-e011-4600-8227-5d8682d5ac89 button.colab-df-convert');\n",
              "        buttonEl.style.display =\n",
              "          google.colab.kernel.accessAllowed ? 'block' : 'none';\n",
              "\n",
              "        async function convertToInteractive(key) {\n",
              "          const element = document.querySelector('#df-731c6293-e011-4600-8227-5d8682d5ac89');\n",
              "          const dataTable =\n",
              "            await google.colab.kernel.invokeFunction('convertToInteractive',\n",
              "                                                     [key], {});\n",
              "          if (!dataTable) return;\n",
              "\n",
              "          const docLinkHtml = 'Like what you see? Visit the ' +\n",
              "            '<a target=\"_blank\" href=https://colab.research.google.com/notebooks/data_table.ipynb>data table notebook</a>'\n",
              "            + ' to learn more about interactive tables.';\n",
              "          element.innerHTML = '';\n",
              "          dataTable['output_type'] = 'display_data';\n",
              "          await google.colab.output.renderOutput(dataTable, element);\n",
              "          const docLink = document.createElement('div');\n",
              "          docLink.innerHTML = docLinkHtml;\n",
              "          element.appendChild(docLink);\n",
              "        }\n",
              "      </script>\n",
              "    </div>\n",
              "  </div>\n",
              "  "
            ]
          },
          "metadata": {},
          "execution_count": 33
        }
      ]
    },
    {
      "cell_type": "code",
      "source": [
        "df['IEOR: MS Faculty Review Form #1 Academic Background'][0]"
      ],
      "metadata": {
        "colab": {
          "base_uri": "https://localhost:8080/",
          "height": 35
        },
        "id": "d029oZ0kni7h",
        "outputId": "b60d826d-eb4d-434f-ae77-9e34f8f70f2c"
      },
      "execution_count": null,
      "outputs": [
        {
          "output_type": "execute_result",
          "data": {
            "text/plain": [
              "'5 - Admit, with no reservations'"
            ],
            "application/vnd.google.colaboratory.intrinsic+json": {
              "type": "string"
            }
          },
          "metadata": {},
          "execution_count": 34
        }
      ]
    },
    {
      "cell_type": "code",
      "source": [
        "rows = []\n",
        "for i in range(0, df['IEOR: MS Faculty Review Form #1 Academic Background'].shape[0]):\n",
        "  if df['IEOR: MS Faculty Review Form #1 Academic Background'][i] == '':\n",
        "    continue\n",
        "  elif df['IEOR: MS Faculty Review Form #1 Academic Background'][i][0] == '4' or df['IEOR: MS Faculty Review Form #1 Academic Background'][i][0] == '5':\n",
        "    rows.append(df['IEOR: MS Faculty Review Form #1 Academic Background'][i])\n"
      ],
      "metadata": {
        "id": "HksJsHUckxOW"
      },
      "execution_count": null,
      "outputs": []
    },
    {
      "cell_type": "code",
      "source": [
        "len(rows)"
      ],
      "metadata": {
        "colab": {
          "base_uri": "https://localhost:8080/"
        },
        "id": "O87EY391qTR2",
        "outputId": "bbb9ae7b-1f1e-4e6c-e99b-67a7987ac755"
      },
      "execution_count": null,
      "outputs": [
        {
          "output_type": "execute_result",
          "data": {
            "text/plain": [
              "413"
            ]
          },
          "metadata": {},
          "execution_count": 36
        }
      ]
    },
    {
      "cell_type": "code",
      "source": [
        "type(df['IEOR: MS Faculty Review Form #1 Academic Background'])"
      ],
      "metadata": {
        "colab": {
          "base_uri": "https://localhost:8080/"
        },
        "id": "dGYAmPo5mp63",
        "outputId": "69bc7730-72ec-40aa-a223-b82b48a7c843"
      },
      "execution_count": null,
      "outputs": [
        {
          "output_type": "execute_result",
          "data": {
            "text/plain": [
              "pandas.core.series.Series"
            ]
          },
          "metadata": {},
          "execution_count": 37
        }
      ]
    },
    {
      "cell_type": "code",
      "source": [
        "len(df)"
      ],
      "metadata": {
        "colab": {
          "base_uri": "https://localhost:8080/"
        },
        "id": "kV11f7dFl1ZL",
        "outputId": "0e68c399-afdd-4036-ce37-cd941e6f1ffa"
      },
      "execution_count": null,
      "outputs": [
        {
          "output_type": "execute_result",
          "data": {
            "text/plain": [
              "2269"
            ]
          },
          "metadata": {},
          "execution_count": 38
        }
      ]
    },
    {
      "cell_type": "code",
      "source": [
        "Acceptance_rate = str(round((len(rows)/len(df) * 100), 2)) + '%'\n",
        "Acceptance_rate"
      ],
      "metadata": {
        "colab": {
          "base_uri": "https://localhost:8080/",
          "height": 35
        },
        "id": "w6P9kLb-eNQQ",
        "outputId": "239b2a7a-b653-45f0-f044-708994069c64"
      },
      "execution_count": null,
      "outputs": [
        {
          "output_type": "execute_result",
          "data": {
            "text/plain": [
              "'18.2%'"
            ],
            "application/vnd.google.colaboratory.intrinsic+json": {
              "type": "string"
            }
          },
          "metadata": {},
          "execution_count": 44
        }
      ]
    }
  ]
}